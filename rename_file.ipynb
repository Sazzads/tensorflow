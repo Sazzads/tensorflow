{
 "cells": [
  {
   "cell_type": "code",
   "execution_count": 21,
   "id": "4dcd8b77",
   "metadata": {},
   "outputs": [],
   "source": [
    "import os "
   ]
  },
  {
   "cell_type": "code",
   "execution_count": 22,
   "id": "ee610be4",
   "metadata": {},
   "outputs": [],
   "source": [
    "path=os.chdir(\"C:\\\\Users\\\\Sazzad\\\\Downloads\\\\msc file\\\\\")"
   ]
  },
  {
   "cell_type": "code",
   "execution_count": 24,
   "id": "0a4a57ed",
   "metadata": {},
   "outputs": [],
   "source": [
    "i=1\n",
    "for file in os.listdir(path):\n",
    "    new_file_name=\"moupi_{}.png\".format(i)\n",
    "    os.rename(file,new_file_name)\n",
    "    i=i+1\n",
    "    "
   ]
  },
  {
   "cell_type": "code",
   "execution_count": null,
   "id": "7ecb8be6",
   "metadata": {},
   "outputs": [],
   "source": []
  },
  {
   "cell_type": "code",
   "execution_count": null,
   "id": "2cdb567f",
   "metadata": {},
   "outputs": [],
   "source": []
  }
 ],
 "metadata": {
  "kernelspec": {
   "display_name": "Python 3 (ipykernel)",
   "language": "python",
   "name": "python3"
  },
  "language_info": {
   "codemirror_mode": {
    "name": "ipython",
    "version": 3
   },
   "file_extension": ".py",
   "mimetype": "text/x-python",
   "name": "python",
   "nbconvert_exporter": "python",
   "pygments_lexer": "ipython3",
   "version": "3.9.12"
  }
 },
 "nbformat": 4,
 "nbformat_minor": 5
}
